{
 "cells": [
  {
   "cell_type": "code",
   "execution_count": 1,
   "metadata": {},
   "outputs": [
    {
     "data": {
      "text/plain": [
       "'Connected: @PS3.db'"
      ]
     },
     "execution_count": 1,
     "metadata": {},
     "output_type": "execute_result"
    }
   ],
   "source": [
    "%load_ext sql\n",
    "%sql sqlite:///PS3.db"
   ]
  },
  {
   "cell_type": "markdown",
   "metadata": {},
   "source": [
    "Homework #3\n",
    "=======\n",
    "\n",
    "### Deliverables:\n",
    "\n",
    "Submit your answers using the `submission_template.txt` file that is posted on Canvas. Follow the instructions on the file! Upload the file at Canvas.\n",
    "\n",
    "\n",
    "### Instructions / Notes:\n",
    "\n",
    "**_Read these carefully_**\n",
    "\n",
    "* You **may** create new IPython notebook cells to use for e.g. testing, debugging, exploring, etc.- this is encouraged in fact!- **just make sure that your final answer for each question is _in its own cell_ and _clearly indicated_**\n",
    "* When you see `In [*]:` to the left of the cell you are executing, this means that the code / query is _running_.\n",
    "    * **If the cell is hanging- i.e. running for too long: To restart the SQL connection, you must restart the entire python kernel**\n",
    "    * To restart kernel using the menu bar: \"Kernel >> Restart >> Clear all outputs & restart\"), then re-execute the sql connection cell at top\n",
    "    * You will also need to restart the connection if you want to load a different version of the database file\n",
    "* Remember:\n",
    "    * `%sql [SQL]` is for _single line_ SQL queries\n",
    "    * `%%sql [SQL]` is for _multi line_ SQL queries\n",
    "* _Have fun!_"
   ]
  },
  {
   "cell_type": "markdown",
   "metadata": {},
   "source": [
    "Problem 1: Verifying Functional Dependencies [20 points]\n",
    "---------\n",
    "\n",
    "For this part, you will need to provide a _single_ SQL query which will check whether a certain condition holds on the **hospital** table in the provided database:"
   ]
  },
  {
   "cell_type": "code",
   "execution_count": null,
   "metadata": {},
   "outputs": [],
   "source": [
    "%sql select * from hospital;"
   ]
  },
  {
   "cell_type": "markdown",
   "metadata": {},
   "source": [
    "You need to evaluate any requested conditions in the following way: **your query should return an empty result if and only if the condition holds on the instance.**  If the condition doesn't hold, your query should return something non-empty, but it doesn't matter what this is.\n",
    "\n",
    "Note our language here: the conditions that we specify cannot be proved to hold **in general** without knowing the externally-defined functional dependencies; so what we mean is, _check whether they **are not violated** for the provided instance_.\n",
    "\n",
    "You may assume that there are no `NULL` values in the tables."
   ]
  },
  {
   "cell_type": "markdown",
   "metadata": {},
   "source": [
    "### Part (a)  [10 points]\n",
    "\n",
    "Is $\\{provider\\}$ a **superkey** for relation $Hospital$?"
   ]
  },
  {
   "cell_type": "code",
   "execution_count": 3,
   "metadata": {},
   "outputs": [
    {
     "name": "stdout",
     "output_type": "stream",
     "text": [
      " * sqlite:///PS3.db\n",
      "Done.\n"
     ]
    },
    {
     "data": {
      "text/html": [
       "<table>\n",
       "    <thead>\n",
       "        <tr>\n",
       "            <th>provider</th>\n",
       "        </tr>\n",
       "    </thead>\n",
       "    <tbody>\n",
       "        <tr>\n",
       "            <td>10018</td>\n",
       "        </tr>\n",
       "        <tr>\n",
       "            <td>10019</td>\n",
       "        </tr>\n",
       "        <tr>\n",
       "            <td>10001</td>\n",
       "        </tr>\n",
       "        <tr>\n",
       "            <td>10005</td>\n",
       "        </tr>\n",
       "        <tr>\n",
       "            <td>10006</td>\n",
       "        </tr>\n",
       "        <tr>\n",
       "            <td>10007</td>\n",
       "        </tr>\n",
       "        <tr>\n",
       "            <td>10008</td>\n",
       "        </tr>\n",
       "        <tr>\n",
       "            <td>10009</td>\n",
       "        </tr>\n",
       "        <tr>\n",
       "            <td>10010</td>\n",
       "        </tr>\n",
       "        <tr>\n",
       "            <td>10011</td>\n",
       "        </tr>\n",
       "        <tr>\n",
       "            <td>10012</td>\n",
       "        </tr>\n",
       "        <tr>\n",
       "            <td>10015</td>\n",
       "        </tr>\n",
       "        <tr>\n",
       "            <td>10016</td>\n",
       "        </tr>\n",
       "        <tr>\n",
       "            <td>10038</td>\n",
       "        </tr>\n",
       "        <tr>\n",
       "            <td>10055</td>\n",
       "        </tr>\n",
       "        <tr>\n",
       "            <td>10056</td>\n",
       "        </tr>\n",
       "        <tr>\n",
       "            <td>10086</td>\n",
       "        </tr>\n",
       "        <tr>\n",
       "            <td>10087</td>\n",
       "        </tr>\n",
       "        <tr>\n",
       "            <td>10108</td>\n",
       "        </tr>\n",
       "        <tr>\n",
       "            <td>10158</td>\n",
       "        </tr>\n",
       "        <tr>\n",
       "            <td>10164</td>\n",
       "        </tr>\n",
       "        <tr>\n",
       "            <td>20017</td>\n",
       "        </tr>\n",
       "        <tr>\n",
       "            <td>20018</td>\n",
       "        </tr>\n",
       "        <tr>\n",
       "            <td>10021</td>\n",
       "        </tr>\n",
       "        <tr>\n",
       "            <td>10022</td>\n",
       "        </tr>\n",
       "        <tr>\n",
       "            <td>10023</td>\n",
       "        </tr>\n",
       "        <tr>\n",
       "            <td>10024</td>\n",
       "        </tr>\n",
       "        <tr>\n",
       "            <td>10025</td>\n",
       "        </tr>\n",
       "        <tr>\n",
       "            <td>10027</td>\n",
       "        </tr>\n",
       "        <tr>\n",
       "            <td>10029</td>\n",
       "        </tr>\n",
       "        <tr>\n",
       "            <td>10032</td>\n",
       "        </tr>\n",
       "        <tr>\n",
       "            <td>10033</td>\n",
       "        </tr>\n",
       "        <tr>\n",
       "            <td>10034</td>\n",
       "        </tr>\n",
       "        <tr>\n",
       "            <td>10035</td>\n",
       "        </tr>\n",
       "        <tr>\n",
       "            <td>10036</td>\n",
       "        </tr>\n",
       "        <tr>\n",
       "            <td>10039</td>\n",
       "        </tr>\n",
       "        <tr>\n",
       "            <td>10040</td>\n",
       "        </tr>\n",
       "        <tr>\n",
       "            <td>10043</td>\n",
       "        </tr>\n",
       "        <tr>\n",
       "            <td>10044</td>\n",
       "        </tr>\n",
       "        <tr>\n",
       "            <td>10045</td>\n",
       "        </tr>\n",
       "        <tr>\n",
       "            <td>10046</td>\n",
       "        </tr>\n",
       "        <tr>\n",
       "            <td>10047</td>\n",
       "        </tr>\n",
       "        <tr>\n",
       "            <td>10049</td>\n",
       "        </tr>\n",
       "        <tr>\n",
       "            <td>10050</td>\n",
       "        </tr>\n",
       "    </tbody>\n",
       "</table>"
      ],
      "text/plain": [
       "[(10018,),\n",
       " (10019,),\n",
       " (10001,),\n",
       " (10005,),\n",
       " (10006,),\n",
       " (10007,),\n",
       " (10008,),\n",
       " (10009,),\n",
       " (10010,),\n",
       " (10011,),\n",
       " (10012,),\n",
       " (10015,),\n",
       " (10016,),\n",
       " (10038,),\n",
       " (10055,),\n",
       " (10056,),\n",
       " (10086,),\n",
       " (10087,),\n",
       " (10108,),\n",
       " (10158,),\n",
       " (10164,),\n",
       " (20017,),\n",
       " (20018,),\n",
       " (10021,),\n",
       " (10022,),\n",
       " (10023,),\n",
       " (10024,),\n",
       " (10025,),\n",
       " (10027,),\n",
       " (10029,),\n",
       " (10032,),\n",
       " (10033,),\n",
       " (10034,),\n",
       " (10035,),\n",
       " (10036,),\n",
       " (10039,),\n",
       " (10040,),\n",
       " (10043,),\n",
       " (10044,),\n",
       " (10045,),\n",
       " (10046,),\n",
       " (10047,),\n",
       " (10049,),\n",
       " (10050,)]"
      ]
     },
     "execution_count": 3,
     "metadata": {},
     "output_type": "execute_result"
    }
   ],
   "source": [
    "%%sql\n",
    "Select distinct h1.provider from hospital h1, hospital h2 where h1.provider == h2.provider and (h1.hospital != h2.hospital or h1.address != h2.address or h1.city != h2.city or h1.state != h2.state or h1.zip != h2.zip or h1.county != h2.county or h1.phone_number != h2.phone_number or h1.hospital_type != h2.hospital_type or h1.hospital_owner != h2.hospital_owner or h1.emergency_service != h2.emergency_service or h1.condition != h2.condition or h1.measure_code != h2.measure_code)"
   ]
  },
  {
   "cell_type": "markdown",
   "metadata": {},
   "source": [
    "### Part (b) [10 points]\n",
    "\n",
    "Does $\\{Zip\\} \\rightarrow \\{City, State\\}$ hold for relation $Hospital$?"
   ]
  },
  {
   "cell_type": "code",
   "execution_count": 4,
   "metadata": {},
   "outputs": [
    {
     "name": "stdout",
     "output_type": "stream",
     "text": [
      " * sqlite:///PS3.db\n",
      "Done.\n"
     ]
    },
    {
     "data": {
      "text/html": [
       "<table>\n",
       "    <thead>\n",
       "        <tr>\n",
       "            <th>zip</th>\n",
       "        </tr>\n",
       "    </thead>\n",
       "    <tbody>\n",
       "    </tbody>\n",
       "</table>"
      ],
      "text/plain": [
       "[]"
      ]
     },
     "execution_count": 4,
     "metadata": {},
     "output_type": "execute_result"
    }
   ],
   "source": [
    "%%sql\n",
    "Select h1.zip from hospital h1, hospital h2 where h1.zip == h2.zip and (h1.city != h2.city or h1.state != h2.state)"
   ]
  },
  {
   "cell_type": "markdown",
   "metadata": {},
   "source": [
    "Problem 2: Superkeys & Decompositions [25 points]\n",
    "---------\n",
    "\n",
    "Consider a relation $S(A,B,C,D,E,F)$ with the following functional dependencies:\n",
    "\n",
    "* $\\{A\\} \\rightarrow \\{D\\}$\n",
    "* $\\{A\\} \\rightarrow \\{E\\}$\n",
    "* $\\{D\\} \\rightarrow \\{C\\}$\n",
    "* $\\{D\\} \\rightarrow \\{F\\}$\n",
    "\n",
    "In each part of this problem, we will examine different properties the provided schema.\n",
    "\n",
    "To answer **yes**, provide python code that assigns the variable ```answer``` to ```True``` and assigns ```explanation``` to be a python string which contains a (short!) explanation of why.  For example:\n",
    "\n",
    "```python\n",
    "answer = True\n",
    "explanation = \"All keys are superkeys.\"\n",
    "```\n",
    "\n",
    "To answer **no**, provide python code that assigns the variable ```answer``` to ```False``` and assigns ```explanation``` to be a python string which contains a (short!) explanation of why.  For example:\n",
    "\n",
    "```python\n",
    "answer = False\n",
    "explanation = \"D is not a superkey because its closure is {D,C,F}.\"\n",
    "```"
   ]
  },
  {
   "cell_type": "markdown",
   "metadata": {
    "collapsed": true
   },
   "source": [
    "### Part (a) [5 points]\n",
    "\n",
    "Is it correct that ${A,B}$ is a superkey?"
   ]
  },
  {
   "cell_type": "code",
   "execution_count": 6,
   "metadata": {},
   "outputs": [],
   "source": [
    "answer = True\n",
    "explanation = \"A,B is a superkey because its closure is {A,B,C,D,E,F} which are all the attributes in the relation S.\""
   ]
  },
  {
   "cell_type": "markdown",
   "metadata": {},
   "source": [
    "### Part (b) [5 points]\n",
    "\n",
    "Is it correct that the decomposition $ABC$, $CDE$, $EFA$ is lossless-join?"
   ]
  },
  {
   "cell_type": "code",
   "execution_count": 7,
   "metadata": {},
   "outputs": [],
   "source": [
    "answer = False\n",
    "explanation = \"After considering every possible decomposition into these 3 relations(first decomposing S into 2 sub relations and then into 3) there is no possible way to arrive at these 3 sub relations such that the decomposition is lossless.\""
   ]
  },
  {
   "cell_type": "markdown",
   "metadata": {},
   "source": [
    "### Part (c) [5 points]\n",
    "\n",
    "Is it correct that the decomposition $ABC$, $CDE$, $EFA$ is dependency preserving?"
   ]
  },
  {
   "cell_type": "code",
   "execution_count": 8,
   "metadata": {},
   "outputs": [],
   "source": [
    "answer = False\n",
    "explanantion = \"F1 includes A->C, F2 includes D->C, F3 includes A->E and A->F. closure of (F1 U F2 U F3) != closure of F.\""
   ]
  },
  {
   "cell_type": "markdown",
   "metadata": {},
   "source": [
    "### Part (d) [5 points]\n",
    "\n",
    "Is the functional dependency $\\{A\\} \\rightarrow \\{E,F\\}$ logically implied by FDs present in the relation?"
   ]
  },
  {
   "cell_type": "code",
   "execution_count": 9,
   "metadata": {},
   "outputs": [],
   "source": [
    "answer = True\n",
    "explanation = \"From Transitivity, {A} -> {D} and {D} -> {F} implies that {A} -> {F} -- (i). Also given that {A} -> {E} -- (ii). Using reflexivity, we can say {A} -> {A,A} -- (iii). Using transitivity on (i), (ii) and (iii) we can say {A} -> {E,F}.\""
   ]
  },
  {
   "cell_type": "markdown",
   "metadata": {},
   "source": [
    "### Part (e) [5 points]\n",
    "\n",
    "Is it correct that relation $S$ is in BCNF? "
   ]
  },
  {
   "cell_type": "code",
   "execution_count": 10,
   "metadata": {},
   "outputs": [],
   "source": [
    "answer = False\n",
    "explanation = \"S is not in BCNF since {D} -> {C} and {D} -> {F} but D is not a key.\""
   ]
  },
  {
   "cell_type": "markdown",
   "metadata": {},
   "source": [
    "Problem 3: Relational Algebra [25 points]\n",
    "---------\n",
    "\n",
    "Consider the following relational schema for conference publications:\n",
    "*  `Article(artid, title, confid, numpages)`\n",
    "*  `Conference(confid, name, year, location)`\n",
    "*  `Author(artid, pid)`\n",
    "*  `Person(pid, name, affiliation)`\n",
    "\n",
    "Express the following queries in the extended Relational Algebra (you can also use the aggregation operator if necessary). To write the RA expression, use the LaTex mode that ipython notebook provides. For example:\n",
    "\n",
    "$$\\pi_{name}(\\sigma_{affiliation=\"UW-Madison\"}(Person))$$ "
   ]
  },
  {
   "cell_type": "markdown",
   "metadata": {},
   "source": [
    "### Part (a) [8 points]\n",
    "\n",
    "Output the name of every person affiliated with `UW-Madison` who has published an article in a 2021 conference."
   ]
  },
  {
   "cell_type": "markdown",
   "metadata": {},
   "source": [
    "$$ \\pi_{Person.name}(\\sigma_{affiliation=\"UW-Madison\"}(Person) \\bowtie Author \\bowtie Article \\bowtie \\sigma_{year = \"2021\"} (Conference)) $$"
   ]
  },
  {
   "cell_type": "markdown",
   "metadata": {},
   "source": [
    "### Part (b) [9 points]\n",
    "\n",
    "Output the names of the people who coauthored an article with `John Doe`. Be careful: a person cannot be coauthor with herself!"
   ]
  },
  {
   "cell_type": "markdown",
   "metadata": {},
   "source": [
    "$$\\pi_{name}((\\sigma_{name != \"John Doe\"}(Person) \\bowtie Author) \\bowtie \\pi_{artid}(\\sigma_{name = \"John Doe\"}(Person) \\bowtie Author))$$ "
   ]
  },
  {
   "cell_type": "markdown",
   "metadata": {},
   "source": [
    "### Part (c) [8 points]\n",
    "\n",
    "Translate the following SQL query to Relational Algebra."
   ]
  },
  {
   "cell_type": "code",
   "execution_count": 24,
   "metadata": {},
   "outputs": [
    {
     "name": "stdout",
     "output_type": "stream",
     "text": [
      " * sqlite:///PS3.db\n",
      "(sqlite3.OperationalError) no such table: Article\n",
      "[SQL: SELECT pid, COUNT(A.artid)\n",
      "FROM Article A, Conference C, Author U\n",
      "WHERE A.confid = C.confid AND C.name = \"PODS\" AND U.artid = A.artid\n",
      "GROUP BY pid ;]\n",
      "(Background on this error at: https://sqlalche.me/e/14/e3q8)\n"
     ]
    }
   ],
   "source": [
    "%%sql\n",
    "SELECT pid, COUNT(A.artid)\n",
    "FROM Article A, Conference C, Author U\n",
    "WHERE A.confid = C.confid AND C.name = \"PODS\" AND U.artid = A.artid\n",
    "GROUP BY pid ;"
   ]
  },
  {
   "cell_type": "markdown",
   "metadata": {},
   "source": [
    "$$\\gamma_{pid, COUNT(A.artid)} (\\sigma_{C.name = \"PODS\"}(\\rho(C, Conference)) \\bowtie \\rho(A, Article) \\bowtie \\rho(U, Author))$$"
   ]
  }
 ],
 "metadata": {
  "kernelspec": {
   "display_name": "Python 3 (ipykernel)",
   "language": "python",
   "name": "python3"
  },
  "language_info": {
   "codemirror_mode": {
    "name": "ipython",
    "version": 3
   },
   "file_extension": ".py",
   "mimetype": "text/x-python",
   "name": "python",
   "nbconvert_exporter": "python",
   "pygments_lexer": "ipython3",
   "version": "3.9.13"
  }
 },
 "nbformat": 4,
 "nbformat_minor": 1
}
